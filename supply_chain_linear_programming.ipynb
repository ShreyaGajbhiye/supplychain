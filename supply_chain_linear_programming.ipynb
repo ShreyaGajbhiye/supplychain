{
  "nbformat": 4,
  "nbformat_minor": 0,
  "metadata": {
    "colab": {
      "provenance": [],
      "toc_visible": true
    },
    "kernelspec": {
      "name": "python3",
      "display_name": "Python 3"
    },
    "language_info": {
      "name": "python"
    }
  },
  "cells": [
    {
      "cell_type": "markdown",
      "source": [
        "Linear programming is used in supply chain optimization where the primary objective can be to minimize costs or maximizing profits, or reducing the delivery times especially when there are constraints such as limited resources, capacity or delivery deadlines.\n",
        "\n",
        "So linear programming can be used in cases where there are\n",
        "a) Transportation problems: to optimize shipping routes and costs\n",
        "\n",
        "b) Production scheduling: determine what and how much to produce\n",
        "\n",
        "c) Resource allocation: Assigning resources like machines.\n",
        "\n",
        "There are three things that come into picture when we use linear programming to solve a problem.\n",
        "\n",
        "1) Objective function: What is needed to be optimizzed? e.g., optimize cost\n",
        "\n",
        "2) Decision variables: What are the variables that influence the objective function? e.g., quantitiy to produce.\n",
        "\n",
        "3) Constraints: What are the limitations or rules that the solution must satisfy? e.g., demand fulfillment.\n",
        "\n"
      ],
      "metadata": {
        "id": "BywpBdl6H1fD"
      }
    },
    {
      "cell_type": "code",
      "source": [
        "pip install pulp"
      ],
      "metadata": {
        "colab": {
          "base_uri": "https://localhost:8080/"
        },
        "id": "7bFerGTdIN_U",
        "outputId": "bcb61a7e-5d72-460d-94c5-80f06551c24b"
      },
      "execution_count": 1,
      "outputs": [
        {
          "output_type": "stream",
          "name": "stdout",
          "text": [
            "Collecting pulp\n",
            "  Downloading PuLP-2.9.0-py3-none-any.whl.metadata (5.4 kB)\n",
            "Downloading PuLP-2.9.0-py3-none-any.whl (17.7 MB)\n",
            "\u001b[2K   \u001b[90m━━━━━━━━━━━━━━━━━━━━━━━━━━━━━━━━━━━━━━━━\u001b[0m \u001b[32m17.7/17.7 MB\u001b[0m \u001b[31m31.1 MB/s\u001b[0m eta \u001b[36m0:00:00\u001b[0m\n",
            "\u001b[?25hInstalling collected packages: pulp\n",
            "Successfully installed pulp-2.9.0\n"
          ]
        }
      ]
    },
    {
      "cell_type": "code",
      "source": [
        "import pulp ##package to specifically solve linear programming in python"
      ],
      "metadata": {
        "id": "ogJow9HWJmui"
      },
      "execution_count": 2,
      "outputs": []
    },
    {
      "cell_type": "code",
      "source": [],
      "metadata": {
        "id": "ZWdwelQ4Jt1t"
      },
      "execution_count": 2,
      "outputs": []
    },
    {
      "cell_type": "markdown",
      "source": [
        "We are solving the problem of demand and supply.\n",
        "We have 4 supply plants: Dallas, Los Angeles, Seattle, Denver.\n",
        "We have to find the number of products that these plants can supply annually.\n",
        "\n",
        "for this rememeber that we have to also consider the fixed cost of building each supply plant.\n",
        "\n",
        "Demand part: 4 stores : Austin, Sacramento, Philadelphia, Boulder.\n",
        "\n",
        "Now the demand is that Austin requires 1700 units each year."
      ],
      "metadata": {
        "id": "_hIy3MlvJ5ry"
      }
    },
    {
      "cell_type": "markdown",
      "source": [
        "This is the supply part"
      ],
      "metadata": {
        "id": "MKZTGHK0MDUr"
      }
    },
    {
      "cell_type": "code",
      "source": [
        "plants = ['Dallas', 'Los Angeles', 'Seattle', 'Denver']"
      ],
      "metadata": {
        "id": "gMqD9Bo4LIzn"
      },
      "execution_count": 3,
      "outputs": []
    },
    {
      "cell_type": "code",
      "source": [
        "#annual supply these plants can ship\n",
        "supply = {'Dallas' : 900, 'Los Angeles' : 2400, 'Seattle' : 1300, 'Denver' : 1800}"
      ],
      "metadata": {
        "id": "Rd8QELirLQ89"
      },
      "execution_count": 4,
      "outputs": []
    },
    {
      "cell_type": "code",
      "source": [
        "##fixed cost of building each plant is to be considered.\n",
        "fixedCost = {'Dallas' : 75000, 'Los Angeles' : 72000, 'Seattle' : 100000, 'Denver' : 74000}"
      ],
      "metadata": {
        "id": "8KhobT3fLnB1"
      },
      "execution_count": 5,
      "outputs": []
    },
    {
      "cell_type": "markdown",
      "source": [
        "This is the Demand part"
      ],
      "metadata": {
        "id": "wlY1tfc4MGeq"
      }
    },
    {
      "cell_type": "code",
      "source": [
        "stores = ['Austin' , 'Sacramento', 'Philadelphia', 'Boulder']"
      ],
      "metadata": {
        "id": "uU4TijM3L_Af"
      },
      "execution_count": 6,
      "outputs": []
    },
    {
      "cell_type": "code",
      "source": [
        "##this is the demand from each store.\n",
        "demand = {'Austin' : 1700, 'Sacramento' : 1000, 'Philadelphia' : 1500, 'Boulder' : 1200}"
      ],
      "metadata": {
        "id": "xxN_xV-gMXUK"
      },
      "execution_count": 7,
      "outputs": []
    },
    {
      "cell_type": "code",
      "source": [
        "##Now, we need to look at the shipping charges for each product from one plant to one store.\n",
        "## Thus we create a cost matrix for this"
      ],
      "metadata": {
        "id": "kx8R_0c0Mdg5"
      },
      "execution_count": 8,
      "outputs": []
    },
    {
      "cell_type": "code",
      "source": [
        "cost_matrix = [\n",
        "  #atx #sct #phl #bu\n",
        "  [2, 7, 4, 6],#dal\n",
        "  [6, 3, 4, 5],#la\n",
        "  [8, 4, 6, 5],#sea\n",
        "  [7, 6, 5, 1], #den\n",
        "]"
      ],
      "metadata": {
        "id": "xF_5PI35MzkX"
      },
      "execution_count": 9,
      "outputs": []
    },
    {
      "cell_type": "code",
      "source": [
        "cost_matrix"
      ],
      "metadata": {
        "colab": {
          "base_uri": "https://localhost:8080/"
        },
        "id": "aMPMduGSNPzu",
        "outputId": "efaeb0b2-eeec-4ddf-85ed-d11f7c46a843"
      },
      "execution_count": 10,
      "outputs": [
        {
          "output_type": "execute_result",
          "data": {
            "text/plain": [
              "[[2, 7, 4, 6], [6, 3, 4, 5], [8, 4, 6, 5], [7, 6, 5, 1]]"
            ]
          },
          "metadata": {},
          "execution_count": 10
        }
      ]
    },
    {
      "cell_type": "code",
      "source": [
        "### we have list of lists but we need dictionaries.\n",
        "\n",
        "costs = {}\n",
        "for i in range(len(plants)):\n",
        "  temp_dict = {}\n",
        "  for j in range(len(stores)):\n",
        "    temp_dict[stores[j]] = cost_matrix[i][j]\n",
        "  costs[plants[i]] = temp_dict"
      ],
      "metadata": {
        "id": "yS0KJBPoNRvF"
      },
      "execution_count": 11,
      "outputs": []
    },
    {
      "cell_type": "code",
      "source": [
        "costs"
      ],
      "metadata": {
        "colab": {
          "base_uri": "https://localhost:8080/"
        },
        "id": "62__0kthO39f",
        "outputId": "f3de0d1d-1d28-495a-978c-31236ae44fb3"
      },
      "execution_count": 12,
      "outputs": [
        {
          "output_type": "execute_result",
          "data": {
            "text/plain": [
              "{'Dallas': {'Austin': 2, 'Sacramento': 7, 'Philadelphia': 4, 'Boulder': 6},\n",
              " 'Los Angeles': {'Austin': 6,\n",
              "  'Sacramento': 3,\n",
              "  'Philadelphia': 4,\n",
              "  'Boulder': 5},\n",
              " 'Seattle': {'Austin': 8, 'Sacramento': 4, 'Philadelphia': 6, 'Boulder': 5},\n",
              " 'Denver': {'Austin': 7, 'Sacramento': 6, 'Philadelphia': 5, 'Boulder': 1}}"
            ]
          },
          "metadata": {},
          "execution_count": 12
        }
      ]
    },
    {
      "cell_type": "code",
      "source": [
        "routes = []\n",
        "for p in plants:\n",
        "  for s in stores:\n",
        "    routes.append((p,s))"
      ],
      "metadata": {
        "id": "eEsiWxgqO4kJ"
      },
      "execution_count": 13,
      "outputs": []
    },
    {
      "cell_type": "code",
      "source": [
        "routes"
      ],
      "metadata": {
        "colab": {
          "base_uri": "https://localhost:8080/"
        },
        "id": "jHeoNKcGPBCw",
        "outputId": "2f8e031d-c17f-4f51-dbb3-1b740073cb7c"
      },
      "execution_count": 14,
      "outputs": [
        {
          "output_type": "execute_result",
          "data": {
            "text/plain": [
              "[('Dallas', 'Austin'),\n",
              " ('Dallas', 'Sacramento'),\n",
              " ('Dallas', 'Philadelphia'),\n",
              " ('Dallas', 'Boulder'),\n",
              " ('Los Angeles', 'Austin'),\n",
              " ('Los Angeles', 'Sacramento'),\n",
              " ('Los Angeles', 'Philadelphia'),\n",
              " ('Los Angeles', 'Boulder'),\n",
              " ('Seattle', 'Austin'),\n",
              " ('Seattle', 'Sacramento'),\n",
              " ('Seattle', 'Philadelphia'),\n",
              " ('Seattle', 'Boulder'),\n",
              " ('Denver', 'Austin'),\n",
              " ('Denver', 'Sacramento'),\n",
              " ('Denver', 'Philadelphia'),\n",
              " ('Denver', 'Boulder')]"
            ]
          },
          "metadata": {},
          "execution_count": 14
        }
      ]
    },
    {
      "cell_type": "code",
      "source": [
        "##use pulp now\n",
        "\n",
        "route = pulp.LpVariable.dicts('Route', (plants, stores), 0, None, pulp.LpInteger)"
      ],
      "metadata": {
        "id": "v7lHTu5qPCjK"
      },
      "execution_count": 15,
      "outputs": []
    },
    {
      "cell_type": "code",
      "source": [
        "route"
      ],
      "metadata": {
        "colab": {
          "base_uri": "https://localhost:8080/"
        },
        "id": "Y6X8gAW7QEjg",
        "outputId": "97bd1a30-c3b7-4a60-a3db-6ba3fe35cadf"
      },
      "execution_count": 16,
      "outputs": [
        {
          "output_type": "execute_result",
          "data": {
            "text/plain": [
              "{'Dallas': {'Austin': Route_Dallas_Austin,\n",
              "  'Sacramento': Route_Dallas_Sacramento,\n",
              "  'Philadelphia': Route_Dallas_Philadelphia,\n",
              "  'Boulder': Route_Dallas_Boulder},\n",
              " 'Los Angeles': {'Austin': Route_Los_Angeles_Austin,\n",
              "  'Sacramento': Route_Los_Angeles_Sacramento,\n",
              "  'Philadelphia': Route_Los_Angeles_Philadelphia,\n",
              "  'Boulder': Route_Los_Angeles_Boulder},\n",
              " 'Seattle': {'Austin': Route_Seattle_Austin,\n",
              "  'Sacramento': Route_Seattle_Sacramento,\n",
              "  'Philadelphia': Route_Seattle_Philadelphia,\n",
              "  'Boulder': Route_Seattle_Boulder},\n",
              " 'Denver': {'Austin': Route_Denver_Austin,\n",
              "  'Sacramento': Route_Denver_Sacramento,\n",
              "  'Philadelphia': Route_Denver_Philadelphia,\n",
              "  'Boulder': Route_Denver_Boulder}}"
            ]
          },
          "metadata": {},
          "execution_count": 16
        }
      ]
    },
    {
      "cell_type": "code",
      "source": [
        "## pulp.LpVariable.dicts(name, indexes, lowerbound, upperbound, category)"
      ],
      "metadata": {
        "id": "Cx-vrfCgQFRO"
      },
      "execution_count": 17,
      "outputs": []
    },
    {
      "cell_type": "code",
      "source": [
        "build = pulp.LpVariable.dicts(\"Build_Plant\", plants, 0, 1, pulp.LpInteger)"
      ],
      "metadata": {
        "id": "2wPZaGAbQmHZ"
      },
      "execution_count": 18,
      "outputs": []
    },
    {
      "cell_type": "code",
      "source": [
        "build"
      ],
      "metadata": {
        "colab": {
          "base_uri": "https://localhost:8080/"
        },
        "id": "cxJrWRwHQ4ja",
        "outputId": "3e7363e9-0a66-4b0f-f053-aaad0402a74a"
      },
      "execution_count": 19,
      "outputs": [
        {
          "output_type": "execute_result",
          "data": {
            "text/plain": [
              "{'Dallas': Build_Plant_Dallas,\n",
              " 'Los Angeles': Build_Plant_Los_Angeles,\n",
              " 'Seattle': Build_Plant_Seattle,\n",
              " 'Denver': Build_Plant_Denver}"
            ]
          },
          "metadata": {},
          "execution_count": 19
        }
      ]
    },
    {
      "cell_type": "code",
      "source": [
        "## Defining the objective function is important\n",
        "## this is going to be a multiplication of number of units traveling along each route * cost of shipping a unit in that route\n",
        "\n",
        "obj = \"\"\n",
        "\n",
        "for (p,s) in routes:\n",
        "  obj += route[p][s] * costs[p][s]\n",
        "\n",
        "obj"
      ],
      "metadata": {
        "colab": {
          "base_uri": "https://localhost:8080/"
        },
        "id": "8IXaVNzCQ64E",
        "outputId": "95f2f3f0-c4f5-48ef-a714-313d2f1eff67"
      },
      "execution_count": 20,
      "outputs": [
        {
          "output_type": "execute_result",
          "data": {
            "text/plain": [
              "2*Route_Dallas_Austin + 6*Route_Dallas_Boulder + 4*Route_Dallas_Philadelphia + 7*Route_Dallas_Sacramento + 7*Route_Denver_Austin + 1*Route_Denver_Boulder + 5*Route_Denver_Philadelphia + 6*Route_Denver_Sacramento + 6*Route_Los_Angeles_Austin + 5*Route_Los_Angeles_Boulder + 4*Route_Los_Angeles_Philadelphia + 3*Route_Los_Angeles_Sacramento + 8*Route_Seattle_Austin + 5*Route_Seattle_Boulder + 6*Route_Seattle_Philadelphia + 4*Route_Seattle_Sacramento + 0"
            ]
          },
          "metadata": {},
          "execution_count": 20
        }
      ]
    },
    {
      "cell_type": "code",
      "source": [
        "for p in plants:\n",
        "  obj += fixedCost[p] * build[p]\n",
        "obj"
      ],
      "metadata": {
        "colab": {
          "base_uri": "https://localhost:8080/"
        },
        "id": "7BQx28YjUPl2",
        "outputId": "9ad62378-bf6b-4ad1-9d2e-d638b1e4533b"
      },
      "execution_count": 21,
      "outputs": [
        {
          "output_type": "execute_result",
          "data": {
            "text/plain": [
              "75000*Build_Plant_Dallas + 74000*Build_Plant_Denver + 72000*Build_Plant_Los_Angeles + 100000*Build_Plant_Seattle + 2*Route_Dallas_Austin + 6*Route_Dallas_Boulder + 4*Route_Dallas_Philadelphia + 7*Route_Dallas_Sacramento + 7*Route_Denver_Austin + 1*Route_Denver_Boulder + 5*Route_Denver_Philadelphia + 6*Route_Denver_Sacramento + 6*Route_Los_Angeles_Austin + 5*Route_Los_Angeles_Boulder + 4*Route_Los_Angeles_Philadelphia + 3*Route_Los_Angeles_Sacramento + 8*Route_Seattle_Austin + 5*Route_Seattle_Boulder + 6*Route_Seattle_Philadelphia + 4*Route_Seattle_Sacramento + 0"
            ]
          },
          "metadata": {},
          "execution_count": 21
        }
      ]
    },
    {
      "cell_type": "code",
      "source": [
        "##problem statement\n",
        "\n",
        "prob = pulp.LpProblem(\"Supply_Problem\", pulp.LpMinimize)\n",
        "prob += obj, \"TOTAL COST\"\n",
        "prob"
      ],
      "metadata": {
        "colab": {
          "base_uri": "https://localhost:8080/"
        },
        "id": "RiUMss4vUex6",
        "outputId": "9b996485-122a-479b-b33d-8a9ecce31802"
      },
      "execution_count": 22,
      "outputs": [
        {
          "output_type": "execute_result",
          "data": {
            "text/plain": [
              "Supply_Problem:\n",
              "MINIMIZE\n",
              "75000*Build_Plant_Dallas + 74000*Build_Plant_Denver + 72000*Build_Plant_Los_Angeles + 100000*Build_Plant_Seattle + 2*Route_Dallas_Austin + 6*Route_Dallas_Boulder + 4*Route_Dallas_Philadelphia + 7*Route_Dallas_Sacramento + 7*Route_Denver_Austin + 1*Route_Denver_Boulder + 5*Route_Denver_Philadelphia + 6*Route_Denver_Sacramento + 6*Route_Los_Angeles_Austin + 5*Route_Los_Angeles_Boulder + 4*Route_Los_Angeles_Philadelphia + 3*Route_Los_Angeles_Sacramento + 8*Route_Seattle_Austin + 5*Route_Seattle_Boulder + 6*Route_Seattle_Philadelphia + 4*Route_Seattle_Sacramento + 0\n",
              "VARIABLES\n",
              "0 <= Build_Plant_Dallas <= 1 Integer\n",
              "0 <= Build_Plant_Denver <= 1 Integer\n",
              "0 <= Build_Plant_Los_Angeles <= 1 Integer\n",
              "0 <= Build_Plant_Seattle <= 1 Integer\n",
              "0 <= Route_Dallas_Austin Integer\n",
              "0 <= Route_Dallas_Boulder Integer\n",
              "0 <= Route_Dallas_Philadelphia Integer\n",
              "0 <= Route_Dallas_Sacramento Integer\n",
              "0 <= Route_Denver_Austin Integer\n",
              "0 <= Route_Denver_Boulder Integer\n",
              "0 <= Route_Denver_Philadelphia Integer\n",
              "0 <= Route_Denver_Sacramento Integer\n",
              "0 <= Route_Los_Angeles_Austin Integer\n",
              "0 <= Route_Los_Angeles_Boulder Integer\n",
              "0 <= Route_Los_Angeles_Philadelphia Integer\n",
              "0 <= Route_Los_Angeles_Sacramento Integer\n",
              "0 <= Route_Seattle_Austin Integer\n",
              "0 <= Route_Seattle_Boulder Integer\n",
              "0 <= Route_Seattle_Philadelphia Integer\n",
              "0 <= Route_Seattle_Sacramento Integer"
            ]
          },
          "metadata": {},
          "execution_count": 22
        }
      ]
    },
    {
      "cell_type": "code",
      "source": [
        "##supply/demand constraints\n",
        "\n",
        "## 1) Supply constrant: Number of products that can be shipped out of each plant\n",
        "for p in plants:\n",
        "  product_out = \"\"\n",
        "  for s in stores:\n",
        "    product_out += route[p][s]\n",
        "  prob += product_out <= supply[p] * build[p], \"Total product out of plant\" + str(p)\n",
        "prob"
      ],
      "metadata": {
        "colab": {
          "base_uri": "https://localhost:8080/"
        },
        "id": "9D6p14ETUrO7",
        "outputId": "c7fa6be4-9c33-4575-f042-e04644082ac1"
      },
      "execution_count": 23,
      "outputs": [
        {
          "output_type": "execute_result",
          "data": {
            "text/plain": [
              "Supply_Problem:\n",
              "MINIMIZE\n",
              "75000*Build_Plant_Dallas + 74000*Build_Plant_Denver + 72000*Build_Plant_Los_Angeles + 100000*Build_Plant_Seattle + 2*Route_Dallas_Austin + 6*Route_Dallas_Boulder + 4*Route_Dallas_Philadelphia + 7*Route_Dallas_Sacramento + 7*Route_Denver_Austin + 1*Route_Denver_Boulder + 5*Route_Denver_Philadelphia + 6*Route_Denver_Sacramento + 6*Route_Los_Angeles_Austin + 5*Route_Los_Angeles_Boulder + 4*Route_Los_Angeles_Philadelphia + 3*Route_Los_Angeles_Sacramento + 8*Route_Seattle_Austin + 5*Route_Seattle_Boulder + 6*Route_Seattle_Philadelphia + 4*Route_Seattle_Sacramento + 0\n",
              "SUBJECT TO\n",
              "Total_product_out_of_plantDallas: - 900 Build_Plant_Dallas\n",
              " + Route_Dallas_Austin + Route_Dallas_Boulder + Route_Dallas_Philadelphia\n",
              " + Route_Dallas_Sacramento <= 0\n",
              "\n",
              "Total_product_out_of_plantLos_Angeles: - 2400 Build_Plant_Los_Angeles\n",
              " + Route_Los_Angeles_Austin + Route_Los_Angeles_Boulder\n",
              " + Route_Los_Angeles_Philadelphia + Route_Los_Angeles_Sacramento <= 0\n",
              "\n",
              "Total_product_out_of_plantSeattle: - 1300 Build_Plant_Seattle\n",
              " + Route_Seattle_Austin + Route_Seattle_Boulder + Route_Seattle_Philadelphia\n",
              " + Route_Seattle_Sacramento <= 0\n",
              "\n",
              "Total_product_out_of_plantDenver: - 1800 Build_Plant_Denver\n",
              " + Route_Denver_Austin + Route_Denver_Boulder + Route_Denver_Philadelphia\n",
              " + Route_Denver_Sacramento <= 0\n",
              "\n",
              "VARIABLES\n",
              "0 <= Build_Plant_Dallas <= 1 Integer\n",
              "0 <= Build_Plant_Denver <= 1 Integer\n",
              "0 <= Build_Plant_Los_Angeles <= 1 Integer\n",
              "0 <= Build_Plant_Seattle <= 1 Integer\n",
              "0 <= Route_Dallas_Austin Integer\n",
              "0 <= Route_Dallas_Boulder Integer\n",
              "0 <= Route_Dallas_Philadelphia Integer\n",
              "0 <= Route_Dallas_Sacramento Integer\n",
              "0 <= Route_Denver_Austin Integer\n",
              "0 <= Route_Denver_Boulder Integer\n",
              "0 <= Route_Denver_Philadelphia Integer\n",
              "0 <= Route_Denver_Sacramento Integer\n",
              "0 <= Route_Los_Angeles_Austin Integer\n",
              "0 <= Route_Los_Angeles_Boulder Integer\n",
              "0 <= Route_Los_Angeles_Philadelphia Integer\n",
              "0 <= Route_Los_Angeles_Sacramento Integer\n",
              "0 <= Route_Seattle_Austin Integer\n",
              "0 <= Route_Seattle_Boulder Integer\n",
              "0 <= Route_Seattle_Philadelphia Integer\n",
              "0 <= Route_Seattle_Sacramento Integer"
            ]
          },
          "metadata": {},
          "execution_count": 23
        }
      ]
    },
    {
      "cell_type": "code",
      "source": [
        "###Demand constraint\n",
        "##For each stores, total products that are coming from the plants is greater than or equal to what\n",
        "##is required.\n",
        "\n",
        "for s in stores:\n",
        "  product_in = \"\"\n",
        "  for p in plants:\n",
        "    product_in += route[p][s]\n",
        "  prob += product_in >= demand[s], \"Total product into the store\" + str(s)\n",
        "prob"
      ],
      "metadata": {
        "colab": {
          "base_uri": "https://localhost:8080/"
        },
        "id": "B3l_Ae_-VRvF",
        "outputId": "e60673d9-0e16-439a-a3cb-24f9bc3b7f2d"
      },
      "execution_count": 24,
      "outputs": [
        {
          "output_type": "execute_result",
          "data": {
            "text/plain": [
              "Supply_Problem:\n",
              "MINIMIZE\n",
              "75000*Build_Plant_Dallas + 74000*Build_Plant_Denver + 72000*Build_Plant_Los_Angeles + 100000*Build_Plant_Seattle + 2*Route_Dallas_Austin + 6*Route_Dallas_Boulder + 4*Route_Dallas_Philadelphia + 7*Route_Dallas_Sacramento + 7*Route_Denver_Austin + 1*Route_Denver_Boulder + 5*Route_Denver_Philadelphia + 6*Route_Denver_Sacramento + 6*Route_Los_Angeles_Austin + 5*Route_Los_Angeles_Boulder + 4*Route_Los_Angeles_Philadelphia + 3*Route_Los_Angeles_Sacramento + 8*Route_Seattle_Austin + 5*Route_Seattle_Boulder + 6*Route_Seattle_Philadelphia + 4*Route_Seattle_Sacramento + 0\n",
              "SUBJECT TO\n",
              "Total_product_out_of_plantDallas: - 900 Build_Plant_Dallas\n",
              " + Route_Dallas_Austin + Route_Dallas_Boulder + Route_Dallas_Philadelphia\n",
              " + Route_Dallas_Sacramento <= 0\n",
              "\n",
              "Total_product_out_of_plantLos_Angeles: - 2400 Build_Plant_Los_Angeles\n",
              " + Route_Los_Angeles_Austin + Route_Los_Angeles_Boulder\n",
              " + Route_Los_Angeles_Philadelphia + Route_Los_Angeles_Sacramento <= 0\n",
              "\n",
              "Total_product_out_of_plantSeattle: - 1300 Build_Plant_Seattle\n",
              " + Route_Seattle_Austin + Route_Seattle_Boulder + Route_Seattle_Philadelphia\n",
              " + Route_Seattle_Sacramento <= 0\n",
              "\n",
              "Total_product_out_of_plantDenver: - 1800 Build_Plant_Denver\n",
              " + Route_Denver_Austin + Route_Denver_Boulder + Route_Denver_Philadelphia\n",
              " + Route_Denver_Sacramento <= 0\n",
              "\n",
              "Total_product_into_the_storeAustin: Route_Dallas_Austin + Route_Denver_Austin\n",
              " + Route_Los_Angeles_Austin + Route_Seattle_Austin >= 1700\n",
              "\n",
              "Total_product_into_the_storeSacramento: Route_Dallas_Sacramento\n",
              " + Route_Denver_Sacramento + Route_Los_Angeles_Sacramento\n",
              " + Route_Seattle_Sacramento >= 1000\n",
              "\n",
              "Total_product_into_the_storePhiladelphia: Route_Dallas_Philadelphia\n",
              " + Route_Denver_Philadelphia + Route_Los_Angeles_Philadelphia\n",
              " + Route_Seattle_Philadelphia >= 1500\n",
              "\n",
              "Total_product_into_the_storeBoulder: Route_Dallas_Boulder\n",
              " + Route_Denver_Boulder + Route_Los_Angeles_Boulder + Route_Seattle_Boulder\n",
              " >= 1200\n",
              "\n",
              "VARIABLES\n",
              "0 <= Build_Plant_Dallas <= 1 Integer\n",
              "0 <= Build_Plant_Denver <= 1 Integer\n",
              "0 <= Build_Plant_Los_Angeles <= 1 Integer\n",
              "0 <= Build_Plant_Seattle <= 1 Integer\n",
              "0 <= Route_Dallas_Austin Integer\n",
              "0 <= Route_Dallas_Boulder Integer\n",
              "0 <= Route_Dallas_Philadelphia Integer\n",
              "0 <= Route_Dallas_Sacramento Integer\n",
              "0 <= Route_Denver_Austin Integer\n",
              "0 <= Route_Denver_Boulder Integer\n",
              "0 <= Route_Denver_Philadelphia Integer\n",
              "0 <= Route_Denver_Sacramento Integer\n",
              "0 <= Route_Los_Angeles_Austin Integer\n",
              "0 <= Route_Los_Angeles_Boulder Integer\n",
              "0 <= Route_Los_Angeles_Philadelphia Integer\n",
              "0 <= Route_Los_Angeles_Sacramento Integer\n",
              "0 <= Route_Seattle_Austin Integer\n",
              "0 <= Route_Seattle_Boulder Integer\n",
              "0 <= Route_Seattle_Philadelphia Integer\n",
              "0 <= Route_Seattle_Sacramento Integer"
            ]
          },
          "metadata": {},
          "execution_count": 24
        }
      ]
    },
    {
      "cell_type": "code",
      "source": [
        "##Solve here:\n",
        "prob.solve()"
      ],
      "metadata": {
        "colab": {
          "base_uri": "https://localhost:8080/"
        },
        "id": "-OfhP5CSWK6q",
        "outputId": "9fa67539-4962-435e-80c1-1cd34ae540a5"
      },
      "execution_count": 25,
      "outputs": [
        {
          "output_type": "execute_result",
          "data": {
            "text/plain": [
              "1"
            ]
          },
          "metadata": {},
          "execution_count": 25
        }
      ]
    },
    {
      "cell_type": "code",
      "source": [
        "print(\"Status:\", pulp.LpStatus[prob.status])"
      ],
      "metadata": {
        "colab": {
          "base_uri": "https://localhost:8080/"
        },
        "id": "mpDwBqqrWQsY",
        "outputId": "707d08f9-3159-47df-a112-535fb2bf53d9"
      },
      "execution_count": 26,
      "outputs": [
        {
          "output_type": "stream",
          "name": "stdout",
          "text": [
            "Status: Optimal\n"
          ]
        }
      ]
    },
    {
      "cell_type": "code",
      "source": [
        "pulp.LpStatus"
      ],
      "metadata": {
        "colab": {
          "base_uri": "https://localhost:8080/"
        },
        "id": "w9OdQG9sWX3Y",
        "outputId": "cdf9fdc3-ea86-4a0e-80d3-86097a5e86d5"
      },
      "execution_count": 27,
      "outputs": [
        {
          "output_type": "execute_result",
          "data": {
            "text/plain": [
              "{0: 'Not Solved',\n",
              " 1: 'Optimal',\n",
              " -1: 'Infeasible',\n",
              " -2: 'Unbounded',\n",
              " -3: 'Undefined'}"
            ]
          },
          "metadata": {},
          "execution_count": 27
        }
      ]
    },
    {
      "cell_type": "code",
      "source": [
        "## To determine which plant is to be build.\n",
        "for v in prob.variables():\n",
        "  print(v.name, \"=\", v.varValue)"
      ],
      "metadata": {
        "colab": {
          "base_uri": "https://localhost:8080/"
        },
        "id": "nfv5AYIuWatY",
        "outputId": "c980a55e-5884-4a57-e047-3e08ac59926f"
      },
      "execution_count": 28,
      "outputs": [
        {
          "output_type": "stream",
          "name": "stdout",
          "text": [
            "Build_Plant_Dallas = 0.0\n",
            "Build_Plant_Denver = 1.0\n",
            "Build_Plant_Los_Angeles = 1.0\n",
            "Build_Plant_Seattle = 1.0\n",
            "Route_Dallas_Austin = 0.0\n",
            "Route_Dallas_Boulder = 0.0\n",
            "Route_Dallas_Philadelphia = 0.0\n",
            "Route_Dallas_Sacramento = 0.0\n",
            "Route_Denver_Austin = 600.0\n",
            "Route_Denver_Boulder = 1200.0\n",
            "Route_Denver_Philadelphia = 0.0\n",
            "Route_Denver_Sacramento = 0.0\n",
            "Route_Los_Angeles_Austin = 900.0\n",
            "Route_Los_Angeles_Boulder = 0.0\n",
            "Route_Los_Angeles_Philadelphia = 1500.0\n",
            "Route_Los_Angeles_Sacramento = 0.0\n",
            "Route_Seattle_Austin = 200.0\n",
            "Route_Seattle_Boulder = 0.0\n",
            "Route_Seattle_Philadelphia = 0.0\n",
            "Route_Seattle_Sacramento = 1000.0\n"
          ]
        }
      ]
    },
    {
      "cell_type": "code",
      "source": [
        "##here we can see that we should build all the plants except for the plant at dallas."
      ],
      "metadata": {
        "id": "33Q7LSGKWoXt"
      },
      "execution_count": 29,
      "outputs": []
    },
    {
      "cell_type": "code",
      "source": [
        "pulp.value(prob.objective)"
      ],
      "metadata": {
        "colab": {
          "base_uri": "https://localhost:8080/"
        },
        "id": "TYRpSYDzW1Py",
        "outputId": "c7016204-9b01-475f-c784-a65b2f170c2b"
      },
      "execution_count": 30,
      "outputs": [
        {
          "output_type": "execute_result",
          "data": {
            "text/plain": [
              "268400.0"
            ]
          },
          "metadata": {},
          "execution_count": 30
        }
      ]
    },
    {
      "cell_type": "code",
      "source": [
        "##How much should be send to each store from each plant?\n",
        "for p in plants:\n",
        "    for s in stores:\n",
        "        print(f\"Ship {route[p][s].varValue} units from {p} to {s}\")"
      ],
      "metadata": {
        "colab": {
          "base_uri": "https://localhost:8080/"
        },
        "id": "n_gEgLkLW3cq",
        "outputId": "7a9a9601-3253-4207-91b3-b926b784490d"
      },
      "execution_count": 31,
      "outputs": [
        {
          "output_type": "stream",
          "name": "stdout",
          "text": [
            "Ship 0.0 units from Dallas to Austin\n",
            "Ship 0.0 units from Dallas to Sacramento\n",
            "Ship 0.0 units from Dallas to Philadelphia\n",
            "Ship 0.0 units from Dallas to Boulder\n",
            "Ship 900.0 units from Los Angeles to Austin\n",
            "Ship 0.0 units from Los Angeles to Sacramento\n",
            "Ship 1500.0 units from Los Angeles to Philadelphia\n",
            "Ship 0.0 units from Los Angeles to Boulder\n",
            "Ship 200.0 units from Seattle to Austin\n",
            "Ship 1000.0 units from Seattle to Sacramento\n",
            "Ship 0.0 units from Seattle to Philadelphia\n",
            "Ship 0.0 units from Seattle to Boulder\n",
            "Ship 600.0 units from Denver to Austin\n",
            "Ship 0.0 units from Denver to Sacramento\n",
            "Ship 0.0 units from Denver to Philadelphia\n",
            "Ship 1200.0 units from Denver to Boulder\n"
          ]
        }
      ]
    },
    {
      "cell_type": "code",
      "source": [
        "##how much money is required to build a plant\n",
        "fixed_cost_total = sum(fixedCost[p] * build[p].varValue for p in plants)\n",
        "print(f\"Total Fixed Costs: ${fixed_cost_total}\")\n"
      ],
      "metadata": {
        "colab": {
          "base_uri": "https://localhost:8080/"
        },
        "id": "vmrL8tBzD6Y8",
        "outputId": "b41e0d8e-c335-43de-f49b-75fd40ff6e44"
      },
      "execution_count": 32,
      "outputs": [
        {
          "output_type": "stream",
          "name": "stdout",
          "text": [
            "Total Fixed Costs: $246000.0\n"
          ]
        }
      ]
    },
    {
      "cell_type": "code",
      "source": [],
      "metadata": {
        "id": "aApqFkDwozwv"
      },
      "execution_count": null,
      "outputs": []
    }
  ]
}